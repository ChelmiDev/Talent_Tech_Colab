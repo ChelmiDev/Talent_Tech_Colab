{
  "metadata": {
    "kernelspec": {
      "display_name": "Python 3",
      "language": "python",
      "name": "python3"
    },
    "language_info": {
      "name": "python",
      "version": "3.10.12",
      "mimetype": "text/x-python",
      "codemirror_mode": {
        "name": "ipython",
        "version": 3
      },
      "pygments_lexer": "ipython3",
      "nbconvert_exporter": "python",
      "file_extension": ".py"
    },
    "kaggle": {
      "accelerator": "none",
      "dataSources": [
        {
          "sourceId": 3136,
          "databundleVersionId": 26502,
          "sourceType": "competition"
        }
      ],
      "isInternetEnabled": false,
      "language": "python",
      "sourceType": "notebook",
      "isGpuEnabled": false
    },
    "colab": {
      "provenance": [],
      "include_colab_link": true
    }
  },
  "nbformat_minor": 0,
  "nbformat": 4,
  "cells": [
    {
      "cell_type": "markdown",
      "metadata": {
        "id": "view-in-github",
        "colab_type": "text"
      },
      "source": [
        "<a href=\"https://colab.research.google.com/github/ChelmiDev/Talent_Tech_Colab/blob/main/Michell_de_taller_s1_b_explorador_ia.ipynb\" target=\"_parent\"><img src=\"https://colab.research.google.com/assets/colab-badge.svg\" alt=\"Open In Colab\"/></a>"
      ]
    },
    {
      "cell_type": "markdown",
      "source": [
        "**Practica Semana 1**\n",
        "\n",
        "---\n"
      ],
      "metadata": {
        "id": "wD_Nu1KXEC0b"
      }
    },
    {
      "cell_type": "markdown",
      "source": [
        "Este ejercicio te permitirá empezar a ejecutar tu propio código."
      ],
      "metadata": {
        "id": "w4LitZ1SEC0d"
      }
    },
    {
      "cell_type": "code",
      "source": [
        "#Ejercicio\n",
        "\n",
        "##Calculo de la superficie de un cuadrado conociendo uno de sus lados\n",
        "\n",
        "##lado = input(\"Ingrese la medida del lado del cuadrado: \")\n",
        "##lado = int(lado)\n",
        "lado = int(input(\"Ingrese la medida del lado del cuadrado: \"))\n",
        "superficie = lado * lado\n",
        "print(\"La superficie del cuadrado es \")\n",
        "print (superficie)"
      ],
      "metadata": {
        "id": "DkEmre0PF5hH",
        "colab": {
          "base_uri": "https://localhost:8080/"
        },
        "outputId": "3ec80074-ec41-4ba7-fd9b-5a478e62e80e"
      },
      "execution_count": null,
      "outputs": [
        {
          "output_type": "stream",
          "name": "stdout",
          "text": [
            "Ingrese la medida del lado del cuadrado: 5\n",
            "La superficie del cuadrado es \n",
            "25\n"
          ]
        }
      ]
    },
    {
      "cell_type": "code",
      "source": [
        "#Calculo de la superficie de un cuadrado conociendo uno de sus lados\n",
        "##lado = input(\"Ingrese la medida del lado del cuadrado: \")\n",
        "##lado = int(lado)\n",
        "lado = int(input(\"Ingrese la medida del lado del cuadrado: \"))\n",
        "superficie = lado * lado\n",
        "print(\"La superficie del cuadrado es \")\n",
        "print (superficie)"
      ],
      "metadata": {
        "id": "NavWhmOkGxSp"
      },
      "execution_count": null,
      "outputs": []
    },
    {
      "cell_type": "code",
      "source": [
        "# Ejercicio: Asigna dos números a variables y realiza las operaciones básicas (suma, resta, multiplicación y división).\n",
        "num1 = int(input(\"ingrse primer numero \"))\n",
        "num2 = int(input(\"ingrse segundo numero \"))\n",
        "suma = num1 + num2\n",
        "resta = num1 - num2\n",
        "multiplicacion = num1 * num2\n",
        "division = num1 / num2\n",
        "\n",
        "print(f\"Suma: {suma}, Resta: {resta}, Multiplicación: {multiplicacion}, División: {division}\")\n"
      ],
      "metadata": {
        "id": "fgT6z12iGynx",
        "colab": {
          "base_uri": "https://localhost:8080/"
        },
        "outputId": "e64c7b03-b988-46cd-db1b-3a54a4e63d94"
      },
      "execution_count": null,
      "outputs": [
        {
          "output_type": "stream",
          "name": "stdout",
          "text": [
            "ingrse primer numero4\n",
            "ingrse segundo numero5\n",
            "Suma: 9, Resta: -1, Multiplicación: 20, División: 0.8\n"
          ]
        }
      ]
    },
    {
      "cell_type": "code",
      "source": [
        "# Ejercicio: Asigna un número a una variable y utiliza operadores de asignación para incrementar y decrementar su valor.\n",
        "num = 8\n",
        "num += 3  # Incrementa en 3\n",
        "num -= 2  # Decrementa en 2\n",
        "\n",
        "print(f\"Nuevo valor de num: {num}\")\n"
      ],
      "metadata": {
        "id": "8GLu5-SfIUf0",
        "colab": {
          "base_uri": "https://localhost:8080/"
        },
        "outputId": "91895308-0720-454e-e985-6cd152fd1031"
      },
      "execution_count": null,
      "outputs": [
        {
          "output_type": "stream",
          "name": "stdout",
          "text": [
            "Nuevo valor de num: 9\n"
          ]
        }
      ]
    },
    {
      "cell_type": "code",
      "source": [
        "# Ejercicio: Crea dos variables de tipo string y realiza la concatenación.\n",
        "cadena1 = \"Hola\"\n",
        "cadena2 = \"Mundo\"\n",
        "resultado = cadena1 + \" \" + cadena2\n",
        "\n",
        "print(f\"Concatenación: {resultado}\")\n"
      ],
      "metadata": {
        "id": "pJwFaxeNT9sV",
        "colab": {
          "base_uri": "https://localhost:8080/"
        },
        "outputId": "c5293a09-0184-44af-fd7f-2743e526e352"
      },
      "execution_count": null,
      "outputs": [
        {
          "output_type": "stream",
          "name": "stdout",
          "text": [
            "Concatenación: Hola Mundo\n"
          ]
        }
      ]
    },
    {
      "cell_type": "code",
      "source": [
        "# Ejercicio: Asigna dos valores booleanos y realiza operaciones lógicas (AND, OR, NOT).\n",
        "bool1 = True\n",
        "bool2 = False\n",
        "resultado_and = bool1 and bool2\n",
        "resultado_or = bool1 or bool2\n",
        "resultado_not = not bool1\n",
        "\n",
        "print(f\"AND: {resultado_and}, OR: {resultado_or}, NOT: {resultado_not}\")\n"
      ],
      "metadata": {
        "id": "JWrY7XEmUFxv"
      },
      "execution_count": null,
      "outputs": []
    },
    {
      "cell_type": "code",
      "source": [
        "# Ejercicio: Asigna dos números decimales y realiza operaciones de redondeo y potencia.\n",
        "decimal1 = 3.14\n",
        "decimal2 = 2.5\n",
        "redondeo = round(decimal1)\n",
        "potencia = decimal1 ** decimal2\n",
        "\n",
        "print(f\"Redondeo: {redondeo}, Potencia: {potencia}\")\n"
      ],
      "metadata": {
        "id": "-MidLpvjUHLC"
      },
      "execution_count": null,
      "outputs": []
    },
    {
      "cell_type": "code",
      "source": [
        "# Ejercicio: Crea dos listas y realiza operaciones de concatenación y repetición.\n",
        "lista1 = [1, 2, 3]\n",
        "lista2 = [4, 5, 6]\n",
        "concatenacion = lista1 + lista2\n",
        "repeticion = lista1 * 3\n",
        "\n",
        "print(f\"Concatenación: {concatenacion}, Repetición: {repeticion}\")\n"
      ],
      "metadata": {
        "id": "Dth41woMU64n",
        "colab": {
          "base_uri": "https://localhost:8080/"
        },
        "outputId": "f3be2594-56d9-4f58-a8a6-0027b0a01b60"
      },
      "execution_count": null,
      "outputs": [
        {
          "output_type": "stream",
          "name": "stdout",
          "text": [
            "Concatenación: [1, 2, 3, 4, 5, 6], Repetición: [1, 2, 3, 1, 2, 3, 1, 2, 3]\n"
          ]
        }
      ]
    },
    {
      "cell_type": "code",
      "source": [
        "# Ejercicio: Asigna un número entero e implementa operadores de comparación (<, >, ==).\n",
        "entero = 15\n",
        "es_mayor = entero > 10\n",
        "es_menor = entero < 20\n",
        "es_igual = entero == 15\n",
        "\n",
        "print(f\"Mayor: {es_mayor}, Menor: {es_menor}, Igual: {es_igual}\")\n"
      ],
      "metadata": {
        "id": "mie3eAh6VBA2",
        "colab": {
          "base_uri": "https://localhost:8080/"
        },
        "outputId": "70733d7e-1150-4c19-8ce3-9848dcfe0b0d"
      },
      "execution_count": null,
      "outputs": [
        {
          "output_type": "stream",
          "name": "stdout",
          "text": [
            "Mayor: True, Menor: True, Igual: True\n"
          ]
        }
      ]
    },
    {
      "cell_type": "code",
      "source": [
        "# Ejercicio: Asigna dos números enteros y utiliza operadores módulo y de división entera.\n",
        "num_entero1 = 25\n",
        "num_entero2 = 7\n",
        "modulo = num_entero1 % num_entero2\n",
        "division_entera = num_entero1 // num_entero2\n",
        "\n",
        "print(f\"Módulo: {modulo}, División Entera: {division_entera}\")\n"
      ],
      "metadata": {
        "id": "ZHWfW5zLVEFK",
        "colab": {
          "base_uri": "https://localhost:8080/"
        },
        "outputId": "edcf9e4e-d18b-45cc-c3b6-411a7c10ca73"
      },
      "execution_count": null,
      "outputs": [
        {
          "output_type": "stream",
          "name": "stdout",
          "text": [
            "Módulo: 4, División Entera: 3\n"
          ]
        }
      ]
    },
    {
      "cell_type": "code",
      "source": [
        "# Ejercicio: Crea dos tuplas y realiza operaciones de concatenación y repetición.\n",
        "tupla1 = (1, 2, 3)\n",
        "tupla2 = (4, 5, 6)\n",
        "concatenacion_tuplas = tupla1 + tupla2\n",
        "repeticion_tupla = tupla1 * 2\n",
        "\n",
        "print(f\"Concatenación de Tuplas: {concatenacion_tuplas}, Repetición de Tupla: {repeticion_tupla}\")\n"
      ],
      "metadata": {
        "id": "eKacgJ4pVG9R"
      },
      "execution_count": null,
      "outputs": []
    },
    {
      "cell_type": "code",
      "source": [
        "# Ejercicio: Realiza operaciones aritméticas con variables de diferentes tipos.\n",
        "entero_mixto = 10\n",
        "decimal_mixto = 3.5\n",
        "resultado_mixto = entero_mixto * decimal_mixto\n",
        "\n",
        "print(f\"Resultado Mixto: {resultado_mixto}\")\n"
      ],
      "metadata": {
        "id": "DB42cTegUH_H"
      },
      "execution_count": null,
      "outputs": []
    },
    {
      "cell_type": "markdown",
      "source": [
        "**Problemas**"
      ],
      "metadata": {
        "id": "8KeC1hDJVjMz"
      }
    },
    {
      "cell_type": "markdown",
      "source": [
        "Calcular el área de un círculo con un radio dado. Utiliza la fórmula $Area = \\pi\\times{radio}^2$"
      ],
      "metadata": {
        "id": "vDX7_py6Vl9G"
      }
    },
    {
      "cell_type": "code",
      "source": [
        "#Acá va la solución\n",
        "import math\n",
        "radio = float(input(\"ingrese el radio del circulo \"))\n",
        "area = (math.pi) * (radio ** 2)\n",
        "print(\"el area del circulo es: \", round(area,4))"
      ],
      "metadata": {
        "id": "8KuMfIS_Y8CW",
        "colab": {
          "base_uri": "https://localhost:8080/"
        },
        "outputId": "63319f8e-84fd-4648-de04-2a4e869f96f7"
      },
      "execution_count": null,
      "outputs": [
        {
          "output_type": "stream",
          "name": "stdout",
          "text": [
            "ingrese el radio del circulo 5\n",
            "el area del circulo es:  78.5398\n"
          ]
        }
      ]
    },
    {
      "cell_type": "markdown",
      "source": [
        "Convertir una temperatura en grados Celsius a Fahrenheit $F=\\frac{9}{5}\\times C+32$"
      ],
      "metadata": {
        "id": "TDj1haZhXebS"
      }
    },
    {
      "cell_type": "code",
      "source": [
        "#Acá va la solución\n",
        "celsius = float(input(\" ingrese su temperatura en celsius \"))\n",
        "faren = ((9/5) * celsius) + 32\n",
        "print(\"su temperatura es \", faren)"
      ],
      "metadata": {
        "id": "oZC3Zk5vY-8z",
        "colab": {
          "base_uri": "https://localhost:8080/"
        },
        "outputId": "d343ccfa-2094-433b-bf05-f31d5a1d0767"
      },
      "execution_count": null,
      "outputs": [
        {
          "output_type": "stream",
          "name": "stdout",
          "text": [
            " ingrese su temperatura en celsius 40\n",
            "su temperatura es  104.0\n"
          ]
        }
      ]
    },
    {
      "cell_type": "markdown",
      "source": [
        "Crear una calculadora de propina. Dado el total de la cuenta y el porcentaje de propina deseado, calcular el monto de propina y el total final."
      ],
      "metadata": {
        "id": "vgG0mx4iXfH0"
      }
    },
    {
      "cell_type": "code",
      "source": [
        "#Acá va la solución\n",
        "\n",
        "subtotal = float(input(\"Ingrese el valor de la cuenta\"))\n",
        "porcentaje = float(input(\"ingrese el porcentaje de propina\"))\n",
        "total = subtotal * porcentaje /100\n",
        "total_final = subtotal + total\n",
        "print(f\"Subtotal:  {subtotal} Propina: {total} Monto final: {total_final}\"  )"
      ],
      "metadata": {
        "id": "zRwfboarY_kG",
        "colab": {
          "base_uri": "https://localhost:8080/"
        },
        "outputId": "fcdee341-0132-4390-b943-9ba50b1fc2ee"
      },
      "execution_count": null,
      "outputs": [
        {
          "output_type": "stream",
          "name": "stdout",
          "text": [
            "Ingrese el valor de la cuenta100\n",
            "ingrese el porcentaje de propina20\n",
            "Subtotal:  100.0 Propina: 20.0 Monto final: 120.0\n"
          ]
        }
      ]
    },
    {
      "cell_type": "markdown",
      "source": [
        "Calcular el precio final de un producto después de aplicar un descuento. Se proporcionan el precio original y el porcentaje de descuento."
      ],
      "metadata": {
        "id": "r9D2hDFNXiqY"
      }
    },
    {
      "cell_type": "code",
      "source": [
        "#Acá va la solución\n",
        "precio = float(input('ingrese precio del producto '))\n",
        "porcentaje_producto = float(input('ingrse porcentaje de descuento del producto '))\n",
        "precio_descuento = precio * porcentaje_producto /100\n",
        "Total_descuento = precio - precio_descuento\n",
        "print(f\"Precio final con descuento es: {Total_descuento}$\")"
      ],
      "metadata": {
        "id": "CBkarqF3ZAZN",
        "colab": {
          "base_uri": "https://localhost:8080/"
        },
        "outputId": "7d1ad667-4968-4a1d-c6d8-d737301572d1"
      },
      "execution_count": null,
      "outputs": [
        {
          "output_type": "stream",
          "name": "stdout",
          "text": [
            "ingrese precio del producto 100\n",
            "ingrse porcentaje de descuento del producto 10\n",
            "Precio final con descuento es: 90.0$\n"
          ]
        }
      ]
    },
    {
      "cell_type": "markdown",
      "source": [
        "Determinar la edad de una persona dados su año de nacimiento y el año actual."
      ],
      "metadata": {
        "id": "-jj-Kvp3XmBf"
      }
    },
    {
      "cell_type": "code",
      "source": [
        "#Acá va la solución\n",
        "import datetime\n",
        "anio = datetime.datetime.now().year\n",
        "\n",
        "anio_nacimiento = int(input('Ingrese el año de nacimiento '))\n",
        "edad = anio - anio_nacimiento\n",
        "\n",
        "print(f'Tu edad es: {edad}')\n"
      ],
      "metadata": {
        "id": "lUoGJ7iZY6b-",
        "colab": {
          "base_uri": "https://localhost:8080/"
        },
        "outputId": "1bfcdd43-1997-440d-8bfd-e8335daa2ced"
      },
      "execution_count": null,
      "outputs": [
        {
          "output_type": "stream",
          "name": "stdout",
          "text": [
            "Ingrese el año de nacimiento 1990\n",
            "Tu edad es: 34\n"
          ]
        }
      ]
    },
    {
      "cell_type": "markdown",
      "source": [
        "Calcular la velocidad media de un objeto. Se dan la distancia recorrida y el tiempo empleado."
      ],
      "metadata": {
        "id": "Mpi7actnXpnK"
      }
    },
    {
      "cell_type": "code",
      "source": [
        "#Acá va la solución\n",
        "distancia_recorrida = int(input(\"Ingrese la distancia recorrida \"))\n",
        "tiempo_empleado = int(input(\"Ingrese el tiempo empleado \"))\n",
        "vel_media = distancia_recorrida / tiempo_empleado\n",
        "\n",
        "print(f\"La velocidad media de un objeto es: {vel_media} m/s\")\n"
      ],
      "metadata": {
        "id": "6S3_0SMOZBb2",
        "colab": {
          "base_uri": "https://localhost:8080/"
        },
        "outputId": "b9eb4a35-4b3c-4a31-836b-27d0b635e433"
      },
      "execution_count": null,
      "outputs": [
        {
          "output_type": "stream",
          "name": "stdout",
          "text": [
            "Ingrese la distancia recorrida 100\n",
            "Ingrese el tiempo empleado 10\n",
            "La velocidad media de un objeto es: 10.0 m/s\n"
          ]
        }
      ]
    },
    {
      "cell_type": "markdown",
      "source": [
        "Crear una calculadora de índice de masa corporal (IMC). Se proporciona el peso en kilogramos y la altura en metros."
      ],
      "metadata": {
        "id": "Q5jLVQZ9Xw7o"
      }
    },
    {
      "cell_type": "code",
      "source": [
        "#Acá va la solución\n",
        "peso = float(input(\"Ingresa tu peso \"))\n",
        "altura = float (input(\"Ingresa tu altura \"))\n",
        "imc = peso / (altura ** 2)\n",
        "print(f\"Tu IMC es: {imc}\")"
      ],
      "metadata": {
        "id": "hVHB61aQZCRk",
        "colab": {
          "base_uri": "https://localhost:8080/"
        },
        "outputId": "17568ea1-4863-4980-bd23-fa1f8efa12be"
      },
      "execution_count": null,
      "outputs": [
        {
          "output_type": "stream",
          "name": "stdout",
          "text": [
            "Ingresa tu peso 60\n",
            "Ingresa tu altura 1.71\n",
            "Tu IMC es: 20.519134092541297\n"
          ]
        }
      ]
    },
    {
      "cell_type": "markdown",
      "source": [
        "Calcular la suma de los primeros $n$ números pares. El valor de $n$ se proporciona como entrada."
      ],
      "metadata": {
        "id": "KTuFdbS8X0VU"
      }
    },
    {
      "cell_type": "code",
      "source": [
        "#Acá va la solución\n",
        "numero = int(input(\"Ingrese un numero \"))\n",
        "lista_numero = []\n",
        "for i in range(numero + 1):\n",
        "  if i % 2 == 0:\n",
        "      lista_numero.append(i)\n",
        "print(f\"Los numeros pares hasta {numero} son {lista_numero}\")"
      ],
      "metadata": {
        "id": "yKvPb8KIZC7d",
        "colab": {
          "base_uri": "https://localhost:8080/"
        },
        "outputId": "df6f7701-f9fc-482c-84a4-58e0444004e4"
      },
      "execution_count": null,
      "outputs": [
        {
          "output_type": "stream",
          "name": "stdout",
          "text": [
            "Ingrese un numero 10\n",
            "Los numeros pares hasta 10 son [0, 2, 4, 6, 8, 10]\n"
          ]
        }
      ]
    },
    {
      "cell_type": "markdown",
      "source": [
        "Calcular la raíz cuadrada de un número dado. Utiliza la función sqrt del módulo math"
      ],
      "metadata": {
        "id": "2eQf6q0bYGJd"
      }
    },
    {
      "cell_type": "code",
      "source": [
        "#Acá va la solución\n",
        "import math\n",
        "raiz = float(input(\"ingrese numero \"))\n",
        "raiz_cuadrada = math.sqrt(raiz)\n",
        "print(f\"La raiz cuadrada de {raiz} es {raiz_cuadrada}\")"
      ],
      "metadata": {
        "id": "ffyRFQjjZDep",
        "colab": {
          "base_uri": "https://localhost:8080/"
        },
        "outputId": "63b202bd-9799-4f1f-e9ff-2836ebbebbc0"
      },
      "execution_count": null,
      "outputs": [
        {
          "output_type": "stream",
          "name": "stdout",
          "text": [
            "ingrese numero 16\n",
            "La raiz cuadrada de 16.0 es 4.0\n"
          ]
        }
      ]
    },
    {
      "cell_type": "markdown",
      "source": [
        "Calcular el monto final después de ciertos años utilizando la fórmula del interés simple: $MF=Principal=(1+tasaInteres × tiempo)$"
      ],
      "metadata": {
        "id": "pH0HpsdKYQKo"
      }
    },
    {
      "cell_type": "code",
      "source": [
        "#Acá va la solución"
      ],
      "metadata": {
        "id": "VRRFB3kbZEIy"
      },
      "execution_count": null,
      "outputs": []
    },
    {
      "cell_type": "code",
      "source": [],
      "metadata": {
        "id": "Ov9OsPZMYL3V"
      },
      "execution_count": null,
      "outputs": []
    },
    {
      "cell_type": "code",
      "source": [],
      "metadata": {
        "id": "VE6FQstVXzlx"
      },
      "execution_count": null,
      "outputs": []
    },
    {
      "cell_type": "markdown",
      "source": [
        "Realizar un programa que comprueba si una cadena leída por teclado comienza por una\n",
        "subcadena introducida por teclado."
      ],
      "metadata": {
        "id": "MRocyKvtx6n6"
      }
    },
    {
      "cell_type": "code",
      "source": [
        "# Pedir la cadena y la subcadena\n",
        "cadena = input(\"Por favor, ingrese una cadena: \")\n",
        "subcadena = input(\"Por favor, ingrese una subcadena: \")\n",
        "\n",
        "# Comprobar si la cadena comienza por la subcadena\n",
        "if cadena == subcadena:\n",
        "    print(f\"La cadena '{cadena}' comienza por la subcadena '{subcadena}'.\")\n",
        "else:\n",
        "    print(f\"La cadena '{cadena}' no comienza por la subcadena '{subcadena}'.\")\n"
      ],
      "metadata": {
        "id": "Xo77pYP7VlPx",
        "colab": {
          "base_uri": "https://localhost:8080/"
        },
        "outputId": "9d0d2379-a823-447e-c411-c8e7d768bb87"
      },
      "execution_count": 5,
      "outputs": [
        {
          "output_type": "stream",
          "name": "stdout",
          "text": [
            "Por favor, ingrese una cadena: ajo\n",
            "Por favor, ingrese una subcadena: ajo\n",
            "La cadena 'ajo' comienza por la subcadena 'ajo'.\n"
          ]
        }
      ]
    },
    {
      "cell_type": "markdown",
      "source": [
        "Pide una cadena y un carácter por teclado (valida que sea un carácter) y muestra cuantas\n",
        "veces aparece el carácter en la cadena.\n"
      ],
      "metadata": {
        "id": "4I05ms3SyEUi"
      }
    },
    {
      "cell_type": "code",
      "source": [
        "cadena = input(\"Por favor, ingrese una cadena: \")\n",
        "caracter = input(\"Por favor, ingrese un caracter: \")\n",
        "if len(caracter) == 1:\n",
        "  total = cadena.count(caracter)\n",
        "  print(f\"Se encontraron {total} caracteres en la cadena\")\n",
        "else:\n",
        "  print(\"La entrada no es válida. Por favor, ingrese solo un carácter.\")\n"
      ],
      "metadata": {
        "colab": {
          "base_uri": "https://localhost:8080/"
        },
        "id": "AB5nPINFyG6f",
        "outputId": "b1b24298-c7cd-4058-85a5-7b5203b73cd4"
      },
      "execution_count": 13,
      "outputs": [
        {
          "output_type": "stream",
          "name": "stdout",
          "text": [
            "Por favor, ingrese una cadena: arroz \n",
            "Por favor, ingrese un caracter: d\n",
            "Se encontraron 0 caracteres en la cadena\n"
          ]
        }
      ]
    },
    {
      "cell_type": "markdown",
      "source": [
        "Suponiendo que hemos introducido una cadena por teclado que representa una frase\n",
        "(palabras separadas por espacios), realiza un programa que cuente cuantas palabras tiene."
      ],
      "metadata": {
        "id": "04P6vcOaF_xj"
      }
    },
    {
      "cell_type": "code",
      "source": [
        "from posixpath import splitext\n",
        "from os.path import split\n",
        "cadena = input(\"Por favor, ingrese una cadena: \")\n",
        "palabras = len(cadena.split())\n",
        "print(f\"{cadena} tiene {palabras} palabras en la oracion\")"
      ],
      "metadata": {
        "colab": {
          "base_uri": "https://localhost:8080/"
        },
        "id": "yRQX9OBHGBS4",
        "outputId": "dcbecd56-adac-46eb-d36d-7020bee49933"
      },
      "execution_count": 21,
      "outputs": [
        {
          "output_type": "stream",
          "name": "stdout",
          "text": [
            "Por favor, ingrese una cadena: hola omo esta\n",
            "hola omo esta tiene 3 palabras en la oracion\n"
          ]
        }
      ]
    },
    {
      "cell_type": "markdown",
      "source": [
        "Pide una cadena y dos caracteres por teclado (valida que sea un carácter), sustituye la\n",
        "aparición del primer carácter en la cadena por el segundo carácter."
      ],
      "metadata": {
        "id": "t4j09zuwHpeh"
      }
    },
    {
      "cell_type": "code",
      "source": [
        "cadena = input(\"Por favor, ingrese una cadena: \")\n",
        "caracter = input(\"Por favor, ingrese un caracter: \")\n",
        "if len(caracter) == 1:\n",
        "  total = cadena.count(caracter)\n",
        "  print(f\"Se encontraron {total} caracteres en la cadena\")\n",
        "else:\n",
        "  print(\"La entrada no es válida. Por favor, ingrese solo un carácter.\")\n"
      ],
      "metadata": {
        "id": "PygtO-K_HruK"
      },
      "execution_count": null,
      "outputs": []
    }
  ]
}